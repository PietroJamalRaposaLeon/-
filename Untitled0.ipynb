{
  "nbformat": 4,
  "nbformat_minor": 0,
  "metadata": {
    "colab": {
      "provenance": [],
      "include_colab_link": true
    },
    "kernelspec": {
      "name": "python3",
      "display_name": "Python 3"
    },
    "language_info": {
      "name": "python"
    }
  },
  "cells": [
    {
      "cell_type": "markdown",
      "metadata": {
        "id": "view-in-github",
        "colab_type": "text"
      },
      "source": [
        "<a href=\"https://colab.research.google.com/github/PietroJamalRaposaLeon/-/blob/main/Untitled0.ipynb\" target=\"_parent\"><img src=\"https://colab.research.google.com/assets/colab-badge.svg\" alt=\"Open In Colab\"/></a>"
      ]
    },
    {
      "cell_type": "code",
      "execution_count": 37,
      "metadata": {
        "id": "hbLYuVpFDtSv",
        "outputId": "065628ad-d22a-4d23-ead9-417545720bb2",
        "colab": {
          "base_uri": "https://localhost:8080/"
        }
      },
      "outputs": [
        {
          "name": "stdout",
          "output_type": "stream",
          "text": [
            "digite polegadas em Cm: 2\n",
            "digite pés em Cm: 1\n"
          ]
        },
        {
          "output_type": "execute_result",
          "data": {
            "text/plain": [
              "0.328"
            ]
          },
          "metadata": {},
          "execution_count": 37
        }
      ],
      "source": [
        "C = input(\"digite polegadas em Cm: \")\n",
        "pe = input(\"digite pés em Cm: \")\n",
        "\n",
        "def converter(C):\n",
        "  p = (C*(0.394))\n",
        "  return p\n",
        "\n",
        "#def converter(pe):\n",
        " # ps = (pe*(0.328))\n",
        "  #return ps\n",
        "\n",
        "converter(float(C))\n",
        "\n",
        "#converter(float(pe))"
      ]
    }
  ]
}